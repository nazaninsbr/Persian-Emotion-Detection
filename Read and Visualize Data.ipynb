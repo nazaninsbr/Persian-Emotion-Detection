{
 "cells": [
  {
   "cell_type": "code",
   "execution_count": 1,
   "metadata": {},
   "outputs": [],
   "source": [
    "import pandas as pd\n",
    "import numpy as np  \n",
    "import seaborn as sns   \n",
    "import matplotlib.pyplot as plt   \n",
    "import plotly.graph_objs as go  "
   ]
  },
  {
   "cell_type": "code",
   "execution_count": 2,
   "metadata": {},
   "outputs": [
    {
     "name": "stdout",
     "output_type": "stream",
     "text": [
      "Dataset shape: (30000, 7)\n"
     ]
    },
    {
     "data": {
      "text/html": [
       "<div>\n",
       "<style scoped>\n",
       "    .dataframe tbody tr th:only-of-type {\n",
       "        vertical-align: middle;\n",
       "    }\n",
       "\n",
       "    .dataframe tbody tr th {\n",
       "        vertical-align: top;\n",
       "    }\n",
       "\n",
       "    .dataframe thead th {\n",
       "        text-align: right;\n",
       "    }\n",
       "</style>\n",
       "<table border=\"1\" class=\"dataframe\">\n",
       "  <thead>\n",
       "    <tr style=\"text-align: right;\">\n",
       "      <th></th>\n",
       "      <th>text</th>\n",
       "      <th>Anger</th>\n",
       "      <th>Fear</th>\n",
       "      <th>Happiness</th>\n",
       "      <th>Hatred</th>\n",
       "      <th>Sadness</th>\n",
       "      <th>Wonder</th>\n",
       "    </tr>\n",
       "  </thead>\n",
       "  <tbody>\n",
       "    <tr>\n",
       "      <th>0</th>\n",
       "      <td>کرونا رو شکست میدهیم؟\\nمرحله بعد چه گوهی میخوا...</td>\n",
       "      <td>4</td>\n",
       "      <td>3</td>\n",
       "      <td>1</td>\n",
       "      <td>3</td>\n",
       "      <td>3</td>\n",
       "      <td>4</td>\n",
       "    </tr>\n",
       "    <tr>\n",
       "      <th>1</th>\n",
       "      <td>اگر در چند ماه اخیر تصمیم داشته اید وارد بورس ...</td>\n",
       "      <td>2</td>\n",
       "      <td>4</td>\n",
       "      <td>1</td>\n",
       "      <td>2</td>\n",
       "      <td>4</td>\n",
       "      <td>2</td>\n",
       "    </tr>\n",
       "    <tr>\n",
       "      <th>2</th>\n",
       "      <td>یکی از پدرسوختگی های #برانداز اینه که ظاهرا ژس...</td>\n",
       "      <td>5</td>\n",
       "      <td>3</td>\n",
       "      <td>2</td>\n",
       "      <td>4</td>\n",
       "      <td>5</td>\n",
       "      <td>2</td>\n",
       "    </tr>\n",
       "    <tr>\n",
       "      <th>3</th>\n",
       "      <td>یکی از دوستای دبستانم</td>\n",
       "      <td>1</td>\n",
       "      <td>0</td>\n",
       "      <td>0</td>\n",
       "      <td>1</td>\n",
       "      <td>0</td>\n",
       "      <td>0</td>\n",
       "    </tr>\n",
       "    <tr>\n",
       "      <th>4</th>\n",
       "      <td>@username اینقدر گرفتار مسایل میشی که تخصص از ...</td>\n",
       "      <td>2</td>\n",
       "      <td>1</td>\n",
       "      <td>0</td>\n",
       "      <td>1</td>\n",
       "      <td>0</td>\n",
       "      <td>4</td>\n",
       "    </tr>\n",
       "  </tbody>\n",
       "</table>\n",
       "</div>"
      ],
      "text/plain": [
       "                                                text  Anger  Fear  Happiness  \\\n",
       "0  کرونا رو شکست میدهیم؟\\nمرحله بعد چه گوهی میخوا...      4     3          1   \n",
       "1  اگر در چند ماه اخیر تصمیم داشته اید وارد بورس ...      2     4          1   \n",
       "2  یکی از پدرسوختگی های #برانداز اینه که ظاهرا ژس...      5     3          2   \n",
       "3                              یکی از دوستای دبستانم      1     0          0   \n",
       "4  @username اینقدر گرفتار مسایل میشی که تخصص از ...      2     1          0   \n",
       "\n",
       "   Hatred  Sadness  Wonder  \n",
       "0       3        3       4  \n",
       "1       2        4       2  \n",
       "2       4        5       2  \n",
       "3       1        0       0  \n",
       "4       1        0       4  "
      ]
     },
     "execution_count": 2,
     "metadata": {},
     "output_type": "execute_result"
    }
   ],
   "source": [
    "df = pd.read_csv('dataset.csv')\n",
    "df = df.drop_duplicates()\n",
    "print('Dataset shape:', df.shape)\n",
    "\n",
    "df.head()"
   ]
  },
  {
   "cell_type": "code",
   "execution_count": 3,
   "metadata": {},
   "outputs": [
    {
     "data": {
      "image/png": "[encoded data removed]",
      "text/plain": [
       "<Figure size 432x288 with 1 Axes>"
      ]
     },
     "metadata": {
      "needs_background": "light"
     },
     "output_type": "display_data"
    }
   ],
   "source": [
    "emotion_labels = ['Anger', 'Fear', 'Happiness', 'Hatred', 'Sadness','Wonder']\n",
    "yes_label_counts = [0 for e in emotion_labels]\n",
    "\n",
    "for _, row in df.iterrows():\n",
    "    for e_id in range(len(emotion_labels)):\n",
    "        e = emotion_labels[e_id]\n",
    "        if row[e]>2:\n",
    "            yes_label_counts[e_id] += 1\n",
    "\n",
    "plt.bar(emotion_labels, yes_label_counts)\n",
    "plt.xlabel('Emotion')\n",
    "plt.ylabel('Number of Tweets with Emotion')\n",
    "plt.show()"
   ]
  },
  {
   "cell_type": "code",
   "execution_count": 4,
   "metadata": {},
   "outputs": [
    {
     "data": {
      "image/png": "[encoded data removed]",
      "text/plain": [
       "<Figure size 1080x360 with 1 Axes>"
      ]
     },
     "metadata": {
      "needs_background": "light"
     },
     "output_type": "display_data"
    }
   ],
   "source": [
    "tweets_with_emotion_count = {}\n",
    "sum_of_all_tweets = 0\n",
    "for _, row in df.iterrows():\n",
    "    number_of_emotions_tweet_has = 0\n",
    "    for e_id in range(len(emotion_labels)):\n",
    "        e = emotion_labels[e_id]\n",
    "        if row[e]>2:\n",
    "            number_of_emotions_tweet_has += 1\n",
    "    if not number_of_emotions_tweet_has in tweets_with_emotion_count.keys():\n",
    "        tweets_with_emotion_count[number_of_emotions_tweet_has] = 0\n",
    "    tweets_with_emotion_count[number_of_emotions_tweet_has] += 1\n",
    "    sum_of_all_tweets+= 1\n",
    "\n",
    "x_val, y_val = [k for k in tweets_with_emotion_count.keys()], [tweets_with_emotion_count[k]/sum_of_all_tweets for k in tweets_with_emotion_count.keys()]\n",
    "\n",
    "plt.figure(figsize=(15, 5))\n",
    "plt.bar(x_val, y_val, color='red')\n",
    "plt.xlabel('Number of emotions the Tweet has')\n",
    "plt.ylabel('% of Tweets with this emotion count')\n",
    "plt.show()"
   ]
  },
  {
   "cell_type": "code",
   "execution_count": 5,
   "metadata": {},
   "outputs": [],
   "source": [
    "emotion_cooccurance = {k1: {k2: set() for k2 in emotion_labels} for k1 in emotion_labels}\n",
    "emotion_occurance = {k:set() for k in emotion_labels}\n",
    "\n",
    "for row_index, row in df.iterrows():\n",
    "    for e1 in emotion_labels:\n",
    "        for e2 in emotion_labels:\n",
    "            if e1 == e2:\n",
    "                continue \n",
    "            if row[e1]>2 and row[e2]>2:\n",
    "                emotion_cooccurance[e1][e2].add(row_index)\n",
    "                \n",
    "        if row[e1]>2:\n",
    "            emotion_occurance[e1].add(row_index)"
   ]
  },
  {
   "cell_type": "code",
   "execution_count": 6,
   "metadata": {},
   "outputs": [
    {
     "data": {
      "image/png": "[encoded data removed]",
      "text/plain": [
       "<Figure size 432x288 with 2 Axes>"
      ]
     },
     "metadata": {
      "needs_background": "light"
     },
     "output_type": "display_data"
    }
   ],
   "source": [
    "li = []\n",
    "all_the_labels = []\n",
    "for k1 in emotion_cooccurance.keys():\n",
    "    all_the_labels.append(k1)\n",
    "\n",
    "for k1 in all_the_labels:\n",
    "    this_row = []\n",
    "    for k2 in all_the_labels:\n",
    "        union_of_the_two = emotion_occurance[k1].union(emotion_occurance[k2]) \n",
    "        #intersection_of_the_two = emotion_occurance[k1].intersection(emotion_occurance[k2]) \n",
    "        other_way_of_counting_intersection = len(emotion_cooccurance[k1][k2])\n",
    "        this_row.append(other_way_of_counting_intersection/(len(union_of_the_two)))\n",
    "    li.append(this_row)\n",
    "\n",
    "sample_data = np.array(li)  \n",
    "ax = sns.heatmap(sample_data) "
   ]
  },
  {
   "cell_type": "code",
   "execution_count": 7,
   "metadata": {},
   "outputs": [
    {
     "data": {
      "text/plain": [
       "<AxesSubplot:>"
      ]
     },
     "execution_count": 7,
     "metadata": {},
     "output_type": "execute_result"
    },
    {
     "data": {
      "image/png": "[encoded data removed]",
      "text/plain": [
       "<Figure size 792x648 with 2 Axes>"
      ]
     },
     "metadata": {
      "needs_background": "light"
     },
     "output_type": "display_data"
    }
   ],
   "source": [
    "mask = np.triu(np.ones_like(sample_data, dtype=bool))\n",
    "f, ax = plt.subplots(figsize=(11, 9))\n",
    "cmap = sns.diverging_palette(int(120), int(10), as_cmap=True)\n",
    "sns.heatmap(sample_data, mask=mask, center=0, annot=True, cmap = cmap,\n",
    "            square=True, linewidths=.5, cbar_kws={\"shrink\": .5}, xticklabels=all_the_labels,\n",
    "        yticklabels=all_the_labels)"
   ]
  },
  {
   "cell_type": "code",
   "execution_count": null,
   "metadata": {},
   "outputs": [],
   "source": []
  }
 ],
 "metadata": {
  "kernelspec": {
   "display_name": "Python 3",
   "language": "python",
   "name": "python3"
  },
  "language_info": {
   "codemirror_mode": {
    "name": "ipython",
    "version": 3
   },
   "file_extension": ".py",
   "mimetype": "text/x-python",
   "name": "python",
   "nbconvert_exporter": "python",
   "pygments_lexer": "ipython3",
   "version": "3.9.5"
  }
 },
 "nbformat": 4,
 "nbformat_minor": 2
}

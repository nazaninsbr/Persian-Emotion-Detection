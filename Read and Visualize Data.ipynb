{
 "cells": [
  {
   "cell_type": "code",
   "execution_count": 24,
   "metadata": {},
   "outputs": [],
   "source": [
    "import pandas as pd\n",
    "import numpy as np  \n",
    "import seaborn as sns   \n",
    "import matplotlib.pyplot as plt   \n",
    "import plotly.graph_objs as go  "
   ]
  },
  {
   "cell_type": "code",
   "execution_count": 25,
   "metadata": {},
   "outputs": [
    {
     "name": "stdout",
     "output_type": "stream",
     "text": [
      "Dataset shape: (30000, 7)\n"
     ]
    },
    {
     "data": {
      "text/html": [
       "<div>\n",
       "<style scoped>\n",
       "    .dataframe tbody tr th:only-of-type {\n",
       "        vertical-align: middle;\n",
       "    }\n",
       "\n",
       "    .dataframe tbody tr th {\n",
       "        vertical-align: top;\n",
       "    }\n",
       "\n",
       "    .dataframe thead th {\n",
       "        text-align: right;\n",
       "    }\n",
       "</style>\n",
       "<table border=\"1\" class=\"dataframe\">\n",
       "  <thead>\n",
       "    <tr style=\"text-align: right;\">\n",
       "      <th></th>\n",
       "      <th>text</th>\n",
       "      <th>Anger</th>\n",
       "      <th>Fear</th>\n",
       "      <th>Happiness</th>\n",
       "      <th>Hatred</th>\n",
       "      <th>Sadness</th>\n",
       "      <th>Wonder</th>\n",
       "    </tr>\n",
       "  </thead>\n",
       "  <tbody>\n",
       "    <tr>\n",
       "      <th>0</th>\n",
       "      <td>کرونا رو شکست میدهیم؟\\nمرحله بعد چه گوهی میخوا...</td>\n",
       "      <td>4</td>\n",
       "      <td>3</td>\n",
       "      <td>1</td>\n",
       "      <td>3</td>\n",
       "      <td>3</td>\n",
       "      <td>4</td>\n",
       "    </tr>\n",
       "    <tr>\n",
       "      <th>1</th>\n",
       "      <td>اگر در چند ماه اخیر تصمیم داشته اید وارد بورس ...</td>\n",
       "      <td>2</td>\n",
       "      <td>4</td>\n",
       "      <td>1</td>\n",
       "      <td>2</td>\n",
       "      <td>4</td>\n",
       "      <td>2</td>\n",
       "    </tr>\n",
       "    <tr>\n",
       "      <th>2</th>\n",
       "      <td>یکی از پدرسوختگی های #برانداز اینه که ظاهرا ژس...</td>\n",
       "      <td>5</td>\n",
       "      <td>3</td>\n",
       "      <td>2</td>\n",
       "      <td>4</td>\n",
       "      <td>5</td>\n",
       "      <td>2</td>\n",
       "    </tr>\n",
       "    <tr>\n",
       "      <th>3</th>\n",
       "      <td>یکی از دوستای دبستانم</td>\n",
       "      <td>1</td>\n",
       "      <td>0</td>\n",
       "      <td>0</td>\n",
       "      <td>1</td>\n",
       "      <td>0</td>\n",
       "      <td>0</td>\n",
       "    </tr>\n",
       "    <tr>\n",
       "      <th>4</th>\n",
       "      <td>@username اینقدر گرفتار مسایل میشی که تخصص از ...</td>\n",
       "      <td>2</td>\n",
       "      <td>1</td>\n",
       "      <td>0</td>\n",
       "      <td>1</td>\n",
       "      <td>0</td>\n",
       "      <td>4</td>\n",
       "    </tr>\n",
       "  </tbody>\n",
       "</table>\n",
       "</div>"
      ],
      "text/plain": [
       "                                                text  Anger  Fear  Happiness  \\\n",
       "0  کرونا رو شکست میدهیم؟\\nمرحله بعد چه گوهی میخوا...      4     3          1   \n",
       "1  اگر در چند ماه اخیر تصمیم داشته اید وارد بورس ...      2     4          1   \n",
       "2  یکی از پدرسوختگی های #برانداز اینه که ظاهرا ژس...      5     3          2   \n",
       "3                              یکی از دوستای دبستانم      1     0          0   \n",
       "4  @username اینقدر گرفتار مسایل میشی که تخصص از ...      2     1          0   \n",
       "\n",
       "   Hatred  Sadness  Wonder  \n",
       "0       3        3       4  \n",
       "1       2        4       2  \n",
       "2       4        5       2  \n",
       "3       1        0       0  \n",
       "4       1        0       4  "
      ]
     },
     "execution_count": 25,
     "metadata": {},
     "output_type": "execute_result"
    }
   ],
   "source": [
    "df = pd.read_csv('dataset.csv')\n",
    "df = df.drop_duplicates()\n",
    "print('Dataset shape:', df.shape)\n",
    "\n",
    "df.head()"
   ]
  },
  {
   "cell_type": "code",
   "execution_count": 26,
   "metadata": {},
   "outputs": [
    {
     "data": {
      "image/png": "[encoded data removed]",
      "text/plain": [
       "<Figure size 432x288 with 1 Axes>"
      ]
     },
     "metadata": {
      "needs_background": "light"
     },
     "output_type": "display_data"
    }
   ],
   "source": [
    "emotion_labels = ['Anger', 'Fear', 'Happiness', 'Hatred', 'Sadness','Wonder']\n",
    "yes_label_counts = [0 for e in emotion_labels]\n",
    "\n",
    "for _, row in df.iterrows():\n",
    "    for e_id in range(len(emotion_labels)):\n",
    "        e = emotion_labels[e_id]\n",
    "        if row[e]>2:\n",
    "            yes_label_counts[e_id] += 1\n",
    "\n",
    "plt.bar(emotion_labels, yes_label_counts)\n",
    "plt.xlabel('Emotion')\n",
    "plt.ylabel('Number of Tweets with Emotion')\n",
    "plt.show()"
   ]
  },
  {
   "cell_type": "code",
   "execution_count": 28,
   "metadata": {},
   "outputs": [
    {
     "data": {
      "image/png": "[encoded data removed]",
      "text/plain": [
       "<Figure size 1080x360 with 1 Axes>"
      ]
     },
     "metadata": {
      "needs_background": "light"
     },
     "output_type": "display_data"
    }
   ],
   "source": [
    "tweets_with_emotion_count = {}\n",
    "sum_of_all_tweets = 0\n",
    "for _, row in df.iterrows():\n",
    "    number_of_emotions_tweet_has = 0\n",
    "    for e_id in range(len(emotion_labels)):\n",
    "        e = emotion_labels[e_id]\n",
    "        if row[e]>2:\n",
    "            number_of_emotions_tweet_has += 1\n",
    "    if not number_of_emotions_tweet_has in tweets_with_emotion_count.keys():\n",
    "        tweets_with_emotion_count[number_of_emotions_tweet_has] = 0\n",
    "    tweets_with_emotion_count[number_of_emotions_tweet_has] += 1\n",
    "    sum_of_all_tweets+= 1\n",
    "\n",
    "x_val, y_val = [k for k in tweets_with_emotion_count.keys()], [tweets_with_emotion_count[k]/sum_of_all_tweets for k in tweets_with_emotion_count.keys()]\n",
    "\n",
    "plt.figure(figsize=(15, 5))\n",
    "plt.bar(x_val, y_val, color='red')\n",
    "plt.xlabel('Number of emotions the Tweet has')\n",
    "plt.ylabel('% of Tweets with this emotion count')\n",
    "plt.show()"
   ]
  },
  {
   "cell_type": "code",
   "execution_count": 31,
   "metadata": {},
   "outputs": [],
   "source": [
    "emotion_cooccurance = {k1: {k2: 0 for k2 in emotion_labels} for k1 in emotion_labels}\n",
    "emotion_occurance = {k:0 for k in emotion_labels}\n",
    "\n",
    "for _, row in df.iterrows():\n",
    "    for e1 in emotion_labels:\n",
    "        for e2 in emotion_labels:\n",
    "            if e1 == e2:\n",
    "                continue \n",
    "            if row[e1]>2 and row[e2]>2:\n",
    "                emotion_cooccurance[e1][e2] += 1\n",
    "                \n",
    "        if row[e1]>2:\n",
    "            emotion_occurance[e1] += 1"
   ]
  },
  {
   "cell_type": "code",
   "execution_count": 32,
   "metadata": {},
   "outputs": [
    {
     "data": {
      "text/plain": [
       "{'Anger': 1632,\n",
       " 'Fear': 690,\n",
       " 'Happiness': 692,\n",
       " 'Hatred': 1256,\n",
       " 'Sadness': 1770,\n",
       " 'Wonder': 986}"
      ]
     },
     "execution_count": 32,
     "metadata": {},
     "output_type": "execute_result"
    }
   ],
   "source": [
    "emotion_occurance"
   ]
  },
  {
   "cell_type": "code",
   "execution_count": 33,
   "metadata": {},
   "outputs": [
    {
     "data": {
      "text/plain": [
       "{'Anger': {'Anger': 0,\n",
       "  'Fear': 63,\n",
       "  'Happiness': 34,\n",
       "  'Hatred': 142,\n",
       "  'Sadness': 198,\n",
       "  'Wonder': 88},\n",
       " 'Fear': {'Anger': 63,\n",
       "  'Fear': 0,\n",
       "  'Happiness': 20,\n",
       "  'Hatred': 44,\n",
       "  'Sadness': 74,\n",
       "  'Wonder': 29},\n",
       " 'Happiness': {'Anger': 34,\n",
       "  'Fear': 20,\n",
       "  'Happiness': 0,\n",
       "  'Hatred': 27,\n",
       "  'Sadness': 29,\n",
       "  'Wonder': 25},\n",
       " 'Hatred': {'Anger': 142,\n",
       "  'Fear': 44,\n",
       "  'Happiness': 27,\n",
       "  'Hatred': 0,\n",
       "  'Sadness': 152,\n",
       "  'Wonder': 69},\n",
       " 'Sadness': {'Anger': 198,\n",
       "  'Fear': 74,\n",
       "  'Happiness': 29,\n",
       "  'Hatred': 152,\n",
       "  'Sadness': 0,\n",
       "  'Wonder': 105},\n",
       " 'Wonder': {'Anger': 88,\n",
       "  'Fear': 29,\n",
       "  'Happiness': 25,\n",
       "  'Hatred': 69,\n",
       "  'Sadness': 105,\n",
       "  'Wonder': 0}}"
      ]
     },
     "execution_count": 33,
     "metadata": {},
     "output_type": "execute_result"
    }
   ],
   "source": [
    "emotion_cooccurance"
   ]
  },
  {
   "cell_type": "code",
   "execution_count": 34,
   "metadata": {},
   "outputs": [
    {
     "data": {
      "image/png": "[encoded data removed]",
      "text/plain": [
       "<Figure size 432x288 with 2 Axes>"
      ]
     },
     "metadata": {
      "needs_background": "light"
     },
     "output_type": "display_data"
    }
   ],
   "source": [
    "li = []\n",
    "all_the_labels = []\n",
    "for k1 in emotion_cooccurance.keys():\n",
    "    all_the_labels.append(k1)\n",
    "\n",
    "for k1 in all_the_labels:\n",
    "    this_row = []\n",
    "    for k2 in all_the_labels:\n",
    "        this_row.append(emotion_cooccurance[k1][k2]/(emotion_occurance[k1]+emotion_occurance[k2]))\n",
    "    li.append(this_row)\n",
    "\n",
    "sample_data = np.array(li)  \n",
    "ax = sns.heatmap(sample_data) "
   ]
  },
  {
   "cell_type": "code",
   "execution_count": 35,
   "metadata": {},
   "outputs": [
    {
     "data": {
      "text/plain": [
       "<matplotlib.axes._subplots.AxesSubplot at 0x11342b320>"
      ]
     },
     "execution_count": 35,
     "metadata": {},
     "output_type": "execute_result"
    },
    {
     "data": {
      "image/png": "[encoded data removed]",
      "text/plain": [
       "<Figure size 792x648 with 2 Axes>"
      ]
     },
     "metadata": {
      "needs_background": "light"
     },
     "output_type": "display_data"
    }
   ],
   "source": [
    "mask = np.triu(np.ones_like(sample_data, dtype=bool))\n",
    "f, ax = plt.subplots(figsize=(11, 9))\n",
    "cmap = sns.diverging_palette(int(120), int(10), as_cmap=True)\n",
    "sns.heatmap(sample_data, mask=mask, center=0, annot=True, cmap = cmap,\n",
    "            square=True, linewidths=.5, cbar_kws={\"shrink\": .5}, xticklabels=all_the_labels,\n",
    "        yticklabels=all_the_labels)"
   ]
  },
  {
   "cell_type": "code",
   "execution_count": null,
   "metadata": {},
   "outputs": [],
   "source": []
  }
 ],
 "metadata": {
  "kernelspec": {
   "display_name": "Python 3",
   "language": "python",
   "name": "python3"
  },
  "language_info": {
   "codemirror_mode": {
    "name": "ipython",
    "version": 3
   },
   "file_extension": ".py",
   "mimetype": "text/x-python",
   "name": "python",
   "nbconvert_exporter": "python",
   "pygments_lexer": "ipython3",
   "version": "3.6.9"
  }
 },
 "nbformat": 4,
 "nbformat_minor": 2
}
